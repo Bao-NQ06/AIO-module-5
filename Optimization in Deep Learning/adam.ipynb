{
 "cells": [
  {
   "cell_type": "code",
   "execution_count": 2,
   "metadata": {},
   "outputs": [],
   "source": [
    "import numpy as np"
   ]
  },
  {
   "cell_type": "code",
   "execution_count": 3,
   "metadata": {},
   "outputs": [],
   "source": [
    "def df_w(W):\n",
    "    a = np.array([0.2, 4])\n",
    "    dW = a.T @ W\n",
    "    \n",
    "    return dW"
   ]
  },
  {
   "cell_type": "code",
   "execution_count": 4,
   "metadata": {},
   "outputs": [],
   "source": [
    "def RMSProp(s, v, w, dW, a, y1, y2, e ):\n",
    "    v = y1 * v + (1 - y1) * dW\n",
    "    s = y2 * s + (1 - y2) * dW**2\n",
    "    \n",
    "    v_corr = v / (1 - y1)\n",
    "    s_corr = s / (1 - y2)\n",
    "    w = w - a * v_corr / (np.sqrt(s_corr) + e)\n",
    "    return w, v, s"
   ]
  },
  {
   "cell_type": "code",
   "execution_count": 5,
   "metadata": {},
   "outputs": [],
   "source": [
    "def train_p1(RMSProp, lr, epoch):\n",
    "    W = np.array([-5, -2], dtype=np.float32)\n",
    "    s = np.array([0, 0], dtype=np.float32)\n",
    "    v = np.array([0, 0], dtype=np.float32)\n",
    "    result = [W]\n",
    "    for i in range(epoch):\n",
    "        dW = df_w(W)\n",
    "        W, v, s= RMSProp(s, v, W, dW, lr, 0.9, 0.999, 10**-6 )\n",
    "        result.append(W)\n",
    "    return result\n"
   ]
  },
  {
   "cell_type": "code",
   "execution_count": 6,
   "metadata": {},
   "outputs": [
    {
     "name": "stdout",
     "output_type": "stream",
     "text": [
      "[-5. -2.]\n",
      "[-4.8 -1.8]\n",
      "[-4.532239  -1.5322387]\n",
      "[-4.223348 -1.223348]\n",
      "[-3.8901834 -0.8901833]\n",
      "[-3.5467048  -0.54670453]\n",
      "[-3.2063422  -0.20634204]\n",
      "[-2.8828876   0.11711249]\n",
      "[-2.590293    0.40970707]\n",
      "[-2.3413951  0.6586049]\n",
      "[-2.1459742  0.854026 ]\n",
      "[-2.0091345  0.9908657]\n",
      "[-1.9309298  1.0690705]\n",
      "[-1.9072838  1.0927165]\n",
      "[-1.931497   1.0685033]\n",
      "[-1.9956139  1.0043863]\n",
      "[-2.091338   0.9086624]\n",
      "[-2.2105207  0.7894795]\n",
      "[-2.3453786  0.6546215]\n",
      "[-2.4885767  0.5114234]\n",
      "[-2.6332834   0.36671674]\n",
      "[-2.773252    0.22674821]\n",
      "[-2.9029484  0.0970519]\n",
      "[-3.0177157  -0.01771542]\n",
      "[-3.113942   -0.11394164]\n",
      "[-3.1891859  -0.18918557]\n",
      "[-3.2422252 -0.2422248]\n",
      "[-3.2730098  -0.27300948]\n",
      "[-3.2825325  -0.28253222]\n",
      "[-3.2726424  -0.27264208]\n",
      "[-3.2458363  -0.24583599]\n"
     ]
    }
   ],
   "source": [
    "result = train_p1(RMSProp, 0.2, 30)\n",
    "\n",
    "for i in result:\n",
    "    print(i)"
   ]
  },
  {
   "cell_type": "code",
   "execution_count": null,
   "metadata": {},
   "outputs": [],
   "source": []
  }
 ],
 "metadata": {
  "kernelspec": {
   "display_name": "aio2024_env",
   "language": "python",
   "name": "python3"
  },
  "language_info": {
   "codemirror_mode": {
    "name": "ipython",
    "version": 3
   },
   "file_extension": ".py",
   "mimetype": "text/x-python",
   "name": "python",
   "nbconvert_exporter": "python",
   "pygments_lexer": "ipython3",
   "version": "3.11.8"
  }
 },
 "nbformat": 4,
 "nbformat_minor": 2
}
