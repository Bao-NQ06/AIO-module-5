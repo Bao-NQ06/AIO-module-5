{
 "cells": [
  {
   "cell_type": "code",
   "execution_count": 4,
   "metadata": {},
   "outputs": [],
   "source": [
    "import numpy as np"
   ]
  },
  {
   "cell_type": "code",
   "execution_count": 5,
   "metadata": {},
   "outputs": [],
   "source": [
    "def df_w(W):\n",
    "    a = np.array([0.2, 4])\n",
    "    dW = a.T @ W\n",
    "    \n",
    "    return dW"
   ]
  },
  {
   "cell_type": "code",
   "execution_count": 7,
   "metadata": {},
   "outputs": [],
   "source": [
    "def sgd(W, dW, lr):\n",
    "    W = W - lr * dW\n",
    "    return W"
   ]
  },
  {
   "cell_type": "code",
   "execution_count": 9,
   "metadata": {},
   "outputs": [],
   "source": [
    "def train_pl(optimizer, lr, epoch):\n",
    "    W = np.array([-5, -2], dtype=np.float32)\n",
    "    result = [W]\n",
    "    for i in range(epoch):\n",
    "        dW = df_w(W)\n",
    "        W = optimizer(W, dW, lr)\n",
    "        result.append(W)\n",
    "    return result"
   ]
  },
  {
   "cell_type": "code",
   "execution_count": 17,
   "metadata": {},
   "outputs": [
    {
     "name": "stdout",
     "output_type": "stream",
     "text": [
      "[-5. -2.]\n",
      "[-1.4000001  1.5999999]\n",
      "[-3.848      -0.84800005]\n",
      "[-2.18336  0.81664]\n",
      "[-3.3153152  -0.31531525]\n",
      "[-2.5455856   0.45441437]\n",
      "[-3.0690017  -0.06900179]\n",
      "[-2.7130787  0.2869212]\n",
      "[-2.9551063   0.04489358]\n",
      "[-2.7905276   0.20947236]\n",
      "[-2.9024413   0.09755879]\n",
      "[-2.82634     0.17366003]\n",
      "[-2.8780887   0.12191118]\n",
      "[-2.8428996   0.15710038]\n",
      "[-2.8668282   0.13317174]\n",
      "[-2.8505566   0.14944321]\n",
      "[-2.8616211  0.1383786]\n",
      "[-2.8540971   0.14590253]\n",
      "[-2.8592134   0.14078625]\n",
      "[-2.8557343   0.14426532]\n",
      "[-2.8581002   0.14189956]\n",
      "[-2.8564916   0.14350829]\n",
      "[-2.8575854   0.14241436]\n",
      "[-2.8568416   0.14315821]\n",
      "[-2.8573475   0.14265239]\n",
      "[-2.8570035   0.14299637]\n",
      "[-2.8572373   0.14276245]\n",
      "[-2.8570783   0.14292152]\n",
      "[-2.8571866   0.14281335]\n",
      "[-2.857113   0.1428869]\n",
      "[-2.857163    0.14283688]\n"
     ]
    }
   ],
   "source": [
    "result = train_pl(sgd, 0.4, 30)\n",
    "\n",
    "for i in result:\n",
    "    print(i)"
   ]
  },
  {
   "cell_type": "code",
   "execution_count": 1,
   "metadata": {},
   "outputs": [],
   "source": [
    "def sgd_momentum(W, gamma, v, a, dW):\n",
    "    v = gamma * v + (1-gamma) * dW\n",
    "    W = W - a * v\n",
    "    return W, v"
   ]
  },
  {
   "cell_type": "code",
   "execution_count": 2,
   "metadata": {},
   "outputs": [],
   "source": [
    "def train_p1(sgd_momentum, lr, epoch):\n",
    "    W = np.array([-5, -2], dtype=np.float32)\n",
    "    v = np.array([0, 0], dtype=np.float32)\n",
    "    result = [W]\n",
    "    for i in range(epoch):\n",
    "        dW = df_w(W)\n",
    "        W,v = sgd_momentum(W, 0.5, v, lr, dW)\n",
    "        result.append(W)\n",
    "    return result"
   ]
  },
  {
   "cell_type": "code",
   "execution_count": 6,
   "metadata": {},
   "outputs": [
    {
     "name": "stdout",
     "output_type": "stream",
     "text": [
      "[-5. -2.]\n",
      "[-2.3         0.70000005]\n",
      "[-1.652  1.348]\n",
      "[-2.8464801   0.15351987]\n",
      "[-3.4571552  -0.45715523]\n",
      "[-3.006477   -0.00647715]\n",
      "[-2.5929768   0.40702307]\n",
      "[-2.7190757   0.28092408]\n",
      "[-2.9560895   0.04391022]\n",
      "[-2.9499233  0.0500764]\n",
      "[-2.8299365   0.17006321]\n",
      "[-2.8042228   0.19577695]\n",
      "[-2.8580449   0.14195484]\n",
      "[-2.883819    0.11618067]\n",
      "[-2.8630939   0.13690592]\n",
      "[-2.8452327   0.15476708]\n",
      "[-2.8513086   0.14869112]\n",
      "[-2.8616974   0.13830231]\n",
      "[-2.8611526   0.13884698]\n",
      "[-2.8558276  0.1441721]\n",
      "[-2.854822   0.1451778]\n",
      "[-2.857243   0.1427566]\n",
      "[-2.858327    0.14167267]\n",
      "[-2.8573766   0.14262311]\n",
      "[-2.8566065   0.14339319]\n",
      "[-2.8568969  0.1431028]\n",
      "[-2.8573515   0.14264806]\n",
      "[-2.8573155   0.14268412]\n",
      "[-2.8570795   0.14292014]\n",
      "[-2.857041    0.14295876]\n",
      "[-2.8571496   0.14285001]\n"
     ]
    }
   ],
   "source": [
    "result = train_p1(sgd_momentum, 0.6, 30)\n",
    "\n",
    "for i in result:\n",
    "    print(i)"
   ]
  },
  {
   "cell_type": "code",
   "execution_count": null,
   "metadata": {},
   "outputs": [],
   "source": []
  }
 ],
 "metadata": {
  "kernelspec": {
   "display_name": "aio2024_env",
   "language": "python",
   "name": "python3"
  },
  "language_info": {
   "codemirror_mode": {
    "name": "ipython",
    "version": 3
   },
   "file_extension": ".py",
   "mimetype": "text/x-python",
   "name": "python",
   "nbconvert_exporter": "python",
   "pygments_lexer": "ipython3",
   "version": "3.11.8"
  }
 },
 "nbformat": 4,
 "nbformat_minor": 2
}
