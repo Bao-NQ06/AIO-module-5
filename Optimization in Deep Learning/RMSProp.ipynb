{
 "cells": [
  {
   "cell_type": "code",
   "execution_count": 1,
   "metadata": {},
   "outputs": [],
   "source": [
    "import numpy as np"
   ]
  },
  {
   "cell_type": "code",
   "execution_count": 2,
   "metadata": {},
   "outputs": [],
   "source": [
    "def df_w(W):\n",
    "    a = np.array([0.2, 4])\n",
    "    dW = a.T @ W\n",
    "    \n",
    "    return dW"
   ]
  },
  {
   "cell_type": "code",
   "execution_count": 4,
   "metadata": {},
   "outputs": [],
   "source": [
    "def RMSProp(s, w, dW, a, y, e ):\n",
    "    s = y*s + (1-y)*dW**2\n",
    "    w = w - a * dW / (np.sqrt(s) + e)\n",
    "    \n",
    "    return s, w"
   ]
  },
  {
   "cell_type": "code",
   "execution_count": 5,
   "metadata": {},
   "outputs": [],
   "source": [
    "def train_p1(RMSProp, lr, epoch):\n",
    "    W = np.array([-5, -2], dtype=np.float32)\n",
    "    s = np.array([0, 0], dtype=np.float32)\n",
    "    result = [W]\n",
    "    for i in range(epoch):\n",
    "        dW = df_w(W)\n",
    "        s, W = RMSProp(s, W, dW, lr, 0.9, 10**-6 )\n",
    "        result.append(W)\n",
    "    return result\n"
   ]
  },
  {
   "cell_type": "code",
   "execution_count": 6,
   "metadata": {},
   "outputs": [
    {
     "name": "stdout",
     "output_type": "stream",
     "text": [
      "[-5. -2.]\n",
      "[-4.051317 -1.051317]\n",
      "[-3.5708077  -0.57080746]\n",
      "[-3.2824347  -0.28243437]\n",
      "[-3.1045043  -0.10450408]\n",
      "[-2.9961314   0.00386894]\n",
      "[-2.932091   0.0679094]\n",
      "[-2.8957167   0.10428369]\n",
      "[-2.8759875   0.12401289]\n",
      "[-2.8658285   0.13417195]\n",
      "[-2.860893   0.1391074]\n",
      "[-2.8586469  0.1413535]\n",
      "[-2.8576975   0.14230292]\n",
      "[-2.8573287  0.1426718]\n",
      "[-2.8571987   0.14280184]\n",
      "[-2.8571577   0.14284275]\n",
      "[-2.8571465   0.14285399]\n",
      "[-2.8571439  0.1428566]\n",
      "[-2.8571434   0.14285709]\n",
      "[-2.8571434   0.14285716]\n",
      "[-2.8571434   0.14285716]\n",
      "[-2.8571434   0.14285716]\n",
      "[-2.8571434   0.14285716]\n",
      "[-2.8571434   0.14285716]\n",
      "[-2.8571434   0.14285716]\n",
      "[-2.8571434   0.14285716]\n",
      "[-2.8571434   0.14285718]\n",
      "[-2.8571434   0.14285716]\n",
      "[-2.8571434   0.14285718]\n",
      "[-2.8571434   0.14285716]\n",
      "[-2.8571434   0.14285718]\n"
     ]
    }
   ],
   "source": [
    "result = train_p1(RMSProp, 0.3, 30)\n",
    "\n",
    "for i in result:\n",
    "    print(i)"
   ]
  },
  {
   "cell_type": "code",
   "execution_count": null,
   "metadata": {},
   "outputs": [],
   "source": []
  }
 ],
 "metadata": {
  "kernelspec": {
   "display_name": "aio2024_env",
   "language": "python",
   "name": "python3"
  },
  "language_info": {
   "codemirror_mode": {
    "name": "ipython",
    "version": 3
   },
   "file_extension": ".py",
   "mimetype": "text/x-python",
   "name": "python",
   "nbconvert_exporter": "python",
   "pygments_lexer": "ipython3",
   "version": "3.11.8"
  }
 },
 "nbformat": 4,
 "nbformat_minor": 2
}
